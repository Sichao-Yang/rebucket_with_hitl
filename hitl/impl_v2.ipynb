{
 "cells": [
  {
   "cell_type": "code",
   "execution_count": 2,
   "metadata": {},
   "outputs": [],
   "source": [
    "import numpy as np\n",
    "import random\n",
    "import json\n",
    "from os import path as osp\n",
    "import os\n",
    "import yaml"
   ]
  },
  {
   "cell_type": "code",
   "execution_count": 3,
   "metadata": {},
   "outputs": [],
   "source": [
    "import sys\n",
    "root = osp.abspath(osp.join(os.getcwd(), '../'))\n",
    "# print(root)\n",
    "sys.path.append(root)\n",
    "from src.hierarchicalcluster import *\n",
    "from src.hitl import HITL"
   ]
  },
  {
   "attachments": {},
   "cell_type": "markdown",
   "metadata": {},
   "source": [
    "# definition\n",
    "\n",
    "1. config parameters:\n",
    "    - max_k - max number of events for sequence\n",
    "    - remove_ids - list of ignored events\n",
    "    - event_weights - weight list of events, set to be uniform by default\n",
    "--------------\n",
    "2. HITL interface: it receives commands from user, modifies cfg and cluster result, saves new cfg and result at exit.\n",
    "    - result correction\n",
    "      - merge two clusters\n",
    "      - move sample from one cluster to another\n",
    "      - add new cluster\n",
    "    - cfg param setting\n",
    "      - add remove_id\n",
    "      - remove id from remove_id list\n",
    "      - set max_k value\n",
    "      - ~~set event weights~~\n",
    "    - others\n",
    "      - help\n",
    "      - quit\n",
    "      - check clusters, samples, print all\n",
    "  \n",
    "--------------\n",
    "3. Overall workflow:\n",
    "   1. training:\n",
    "      1. it loads unlabeled data, use default setting to learn model param and get result;\n",
    "      2. it interacts with user to correct these results (give labels) and modify setting;\n",
    "      3. it then update its hyper-params to fit the labels.\n",
    "      4. iterate 2-3 steps for further correction.\n",
    "   2. prediction: receive unlabeled data, predict its cluster id."
   ]
  },
  {
   "cell_type": "code",
   "execution_count": 5,
   "metadata": {},
   "outputs": [
    {
     "data": {
      "text/plain": [
       "{'event_weights': [], 'max_K': 10000, 'remove_ids': []}"
      ]
     },
     "execution_count": 5,
     "metadata": {},
     "output_type": "execute_result"
    }
   ],
   "source": [
    "# cfg = {\n",
    "#     'max_K': 10000,\n",
    "#     'remove_ids': [],\n",
    "#     'event_weights': [],\n",
    "# }\n",
    "path_setting = osp.join(os.getcwd(), 'setting.yml')\n",
    "# with open(path_setting, 'w') as fp:\n",
    "#     yaml.dump(cfg, fp, default_flow_style=False)\n",
    "with open(path_setting, 'r') as fp:\n",
    "    cfg = yaml.safe_load(fp)\n",
    "cfg"
   ]
  },
  {
   "cell_type": "code",
   "execution_count": 6,
   "metadata": {},
   "outputs": [
    {
     "name": "stdout",
     "output_type": "stream",
     "text": [
      "True clusters: [[0, 1, 2, 3, 4, 5, 6, 7, 8, 9]]\n",
      "[0, 0, 0, 0, 0, 0, 0, 0, 0, 0]\n",
      "Original data: ['9', '10', '4', '11', '5', '11', '6', '7', '11', '11']\n",
      "Processed data: ['11', '11', '7', '6', '11', '5', '11', '4', '10', '9']\n"
     ]
    }
   ],
   "source": [
    "xs, ys = get_data(path=osp.join(os.getcwd(), 'data_ul.json'))\n",
    "rev_xs = prep_data(xs, cfg['remove_ids'], cfg['max_K'])\n",
    "clusters_true = get_cluster(ys)\n",
    "\n",
    "print(f\"True clusters: {clusters_true}\")\n",
    "print(ys)\n",
    "\n",
    "print(f\"Original data: {xs[1]}\")\n",
    "print(f\"Processed data: {rev_xs[1]}\")"
   ]
  },
  {
   "cell_type": "code",
   "execution_count": 7,
   "metadata": {},
   "outputs": [
    {
     "name": "stdout",
     "output_type": "stream",
     "text": [
      "[[0, 2, 3], [1, 7, 4], [5, 6], [8, 9]]\n"
     ]
    }
   ],
   "source": [
    "c = 1\n",
    "o = 1\n",
    "d_threshold = 0.3\n",
    "\n",
    "hc = HierCluster(distance_threshold=d_threshold, c=c, o=o)\n",
    "clusters_pred = hc.run(rev_xs)\n",
    "\n",
    "print(clusters_pred)"
   ]
  },
  {
   "attachments": {},
   "cell_type": "markdown",
   "metadata": {},
   "source": [
    "# Use interactive cli to provide feedback to model\n",
    "\n",
    "use following cmds to get true labeled data\n",
    "- moves 1 1 0\n",
    "- y\n",
    "- moves 7 1 3\n",
    "- n\n",
    "- moves 4 1 2\n",
    "- y\n",
    "- addrs 11\n",
    "- q"
   ]
  },
  {
   "cell_type": "code",
   "execution_count": 8,
   "metadata": {},
   "outputs": [
    {
     "name": "stdout",
     "output_type": "stream",
     "text": [
      "******************** Human Inspection on HC_result Started ********************\n",
      "New clusters: [[0, 2, 3], [1, 7, 4], [5, 6], [8, 9], []]\n",
      "\n",
      "******************** Human Inspection on HC_result Ended ********************\n"
     ]
    }
   ],
   "source": [
    "save_cfg_path = osp.join(os.getcwd(), 'setting_new.yml')\n",
    "save_res_path = path_setting = osp.join(os.getcwd(), 'data_l.json')\n",
    "dm = HITL(cfg, clusters_pred, xs, save_cfg_path=save_cfg_path, save_res_path=save_res_path)\n",
    "dm.run()"
   ]
  },
  {
   "attachments": {},
   "cell_type": "markdown",
   "metadata": {},
   "source": [
    "# update model prediction with labels and new cfg by hyper-param optimization"
   ]
  },
  {
   "cell_type": "code",
   "execution_count": 8,
   "metadata": {},
   "outputs": [
    {
     "data": {
      "text/plain": [
       "{'event_weights': [], 'max_K': 10000, 'remove_ids': ['11']}"
      ]
     },
     "execution_count": 8,
     "metadata": {},
     "output_type": "execute_result"
    }
   ],
   "source": [
    "cfg_path = osp.join(os.getcwd(), 'setting_new.yml')\n",
    "with open(cfg_path, 'r') as fp:\n",
    "    cfg = yaml.safe_load(fp)\n",
    "cfg"
   ]
  },
  {
   "cell_type": "code",
   "execution_count": 9,
   "metadata": {},
   "outputs": [
    {
     "name": "stdout",
     "output_type": "stream",
     "text": [
      "[[0, 1, 2, 3], [4, 5, 6], [7, 8, 9]]\n",
      "[0, 0, 0, 0, 1, 1, 1, 2, 2, 2]\n",
      "['9', '10', '4', '11', '5', '11', '6', '7', '11', '11']\n",
      "['7', '6', '5', '4', '10', '9']\n"
     ]
    }
   ],
   "source": [
    "xs, ys = get_data(path=osp.join(os.getcwd(), 'data_true.json'))\n",
    "rev_xs = prep_data(xs, cfg['remove_ids'], cfg['max_K'])\n",
    "clusters_true = get_cluster(ys)\n",
    "\n",
    "print(clusters_true)\n",
    "print(ys)\n",
    "\n",
    "print(xs[1])\n",
    "print(rev_xs[1])"
   ]
  },
  {
   "cell_type": "code",
   "execution_count": 10,
   "metadata": {},
   "outputs": [
    {
     "name": "stdout",
     "output_type": "stream",
     "text": [
      "[[0, 2, 3, 1], [4, 6, 5], [7], [8], [9]]\n"
     ]
    }
   ],
   "source": [
    "c = 1\n",
    "o = 1\n",
    "d_threshold = 0.1\n",
    "\n",
    "hc = HierCluster(distance_threshold=d_threshold, c=c, o=o)\n",
    "clusters_pred = hc.run(rev_xs)\n",
    "\n",
    "print(clusters_pred)"
   ]
  },
  {
   "cell_type": "code",
   "execution_count": 11,
   "metadata": {},
   "outputs": [
    {
     "name": "stdout",
     "output_type": "stream",
     "text": [
      "{'c': 0.9, 'o': 0.9, 'd': 0.7000000000000001}\n",
      "[[0, 2, 3, 1], [4, 6, 5], [7, 9, 8]]\n"
     ]
    }
   ],
   "source": [
    "best_param, best_pred = hyper_opt(rev_xs, clusters_true)\n",
    "print(best_param)\n",
    "print(best_pred)"
   ]
  },
  {
   "cell_type": "code",
   "execution_count": 12,
   "metadata": {},
   "outputs": [
    {
     "name": "stdout",
     "output_type": "stream",
     "text": [
      "******************** Human Inspection on HC_result Started ********************\n",
      "In cluster id 1:\n",
      "The sample 4's content: ['1', '2', '3', '4', '1', '2', '11', '11', '3', '11']\n",
      "The sample 6's content: ['2', '3', '4', '1', '2', '3']\n",
      "The sample 5's content: ['1', '2', '3', '4', '2', '3']\n",
      "******************** Human Inspection on HC_result Ended ********************\n"
     ]
    }
   ],
   "source": [
    "dm = HITL(cfg, best_pred, xs, save_cfg_path=\"\", save_res_path=\"\")\n",
    "dm.run()"
   ]
  },
  {
   "cell_type": "code",
   "execution_count": null,
   "metadata": {},
   "outputs": [],
   "source": []
  }
 ],
 "metadata": {
  "kernelspec": {
   "display_name": "base",
   "language": "python",
   "name": "python3"
  },
  "language_info": {
   "codemirror_mode": {
    "name": "ipython",
    "version": 3
   },
   "file_extension": ".py",
   "mimetype": "text/x-python",
   "name": "python",
   "nbconvert_exporter": "python",
   "pygments_lexer": "ipython3",
   "version": "3.9.7"
  },
  "orig_nbformat": 4
 },
 "nbformat": 4,
 "nbformat_minor": 2
}
