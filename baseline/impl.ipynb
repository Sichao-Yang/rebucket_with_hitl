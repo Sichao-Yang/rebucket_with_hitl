{
 "cells": [
  {
   "cell_type": "code",
   "execution_count": 7,
   "metadata": {},
   "outputs": [],
   "source": [
    "from os import path as osp\n",
    "import os\n",
    "root = osp.abspath(osp.join(os.getcwd(), '../'))\n",
    "import sys\n",
    "sys.path.append(root)\n",
    "from src.hierarchicalcluster import *"
   ]
  },
  {
   "cell_type": "code",
   "execution_count": 9,
   "metadata": {},
   "outputs": [
    {
     "name": "stdout",
     "output_type": "stream",
     "text": [
      "[[0, 1, 2, 3], [4, 5, 6], [7, 8, 9]]\n",
      "['1', '2', '3', '4', '5', '6', '7']\n",
      "['7', '6', '5', '4', '3', '2', '1']\n"
     ]
    }
   ],
   "source": [
    "xs, ys = get_data(path=osp.join(os.getcwd(), 'data.json'))\n",
    "rev_xs = prep_data(xs)\n",
    "clusters_true = get_cluster(ys)\n",
    "\n",
    "print(clusters_true)\n",
    "print(xs[3])\n",
    "print(rev_xs[3])"
   ]
  },
  {
   "cell_type": "code",
   "execution_count": 10,
   "metadata": {},
   "outputs": [
    {
     "data": {
      "text/plain": [
       "[[0, 2, 3, 1], [4, 6, 5], [7], [8], [9]]"
      ]
     },
     "execution_count": 10,
     "metadata": {},
     "output_type": "execute_result"
    }
   ],
   "source": [
    "c = 1\n",
    "o = 1\n",
    "d_threshold = 0.1\n",
    "\n",
    "hc = HierCluster(distance_threshold=d_threshold, c=c, o=o)\n",
    "clusters_pred = hc.run(rev_xs)\n",
    "clusters_pred"
   ]
  },
  {
   "cell_type": "code",
   "execution_count": 11,
   "metadata": {},
   "outputs": [
    {
     "name": "stdout",
     "output_type": "stream",
     "text": [
      "{'c': 0.9, 'o': 0.9, 'd': 0.7000000000000001}\n",
      "[[0, 2, 3, 1], [4, 6, 5], [7, 9, 8]]\n",
      "{'c': 0.9, 'o': 0.9, 'd': 0.7000000000000001}\n",
      "[[0, 2, 3, 1], [4, 6, 5], [7, 9, 8]]\n"
     ]
    }
   ],
   "source": [
    "best_param, best_pred = hyper_opt(rev_xs, clusters_true)\n",
    "print(best_param)\n",
    "print(best_pred)"
   ]
  },
  {
   "cell_type": "code",
   "execution_count": null,
   "metadata": {},
   "outputs": [],
   "source": []
  }
 ],
 "metadata": {
  "kernelspec": {
   "display_name": "base",
   "language": "python",
   "name": "python3"
  },
  "language_info": {
   "codemirror_mode": {
    "name": "ipython",
    "version": 3
   },
   "file_extension": ".py",
   "mimetype": "text/x-python",
   "name": "python",
   "nbconvert_exporter": "python",
   "pygments_lexer": "ipython3",
   "version": "3.9.7"
  },
  "orig_nbformat": 4
 },
 "nbformat": 4,
 "nbformat_minor": 2
}
